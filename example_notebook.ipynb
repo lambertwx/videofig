{
 "cells": [
  {
   "cell_type": "markdown",
   "metadata": {},
   "source": [
    "<title>Example of how to use videofig in a Jupyter notebook</title>"
   ]
  },
  {
   "cell_type": "markdown",
   "metadata": {},
   "source": [
    "# Examples of how to use videofig"
   ]
  },
  {
   "cell_type": "code",
   "execution_count": null,
   "metadata": {},
   "outputs": [],
   "source": [
    "import os\n",
    "import sys\n",
    "from matplotlib import pyplot as plt\n",
    "from PIL import Image\n",
    "from skimage.io import imread_collection\n"
   ]
  },
  {
   "cell_type": "code",
   "execution_count": null,
   "metadata": {
    "scrolled": false
   },
   "outputs": [],
   "source": [
    "sys.path"
   ]
  },
  {
   "cell_type": "code",
   "execution_count": null,
   "metadata": {},
   "outputs": [],
   "source": [
    "from videofig import videofig, redraw_fn, draw_regions"
   ]
  },
  {
   "cell_type": "code",
   "execution_count": null,
   "metadata": {},
   "outputs": [],
   "source": [
    "%matplotlib notebook"
   ]
  },
  {
   "cell_type": "code",
   "execution_count": null,
   "metadata": {},
   "outputs": [],
   "source": [
    "from IPython.core.display import HTML\n",
    "display(HTML(\"<style>.container { width:100% !important; }</style>\"))"
   ]
  },
  {
   "cell_type": "code",
   "execution_count": null,
   "metadata": {},
   "outputs": [],
   "source": [
    "# This is the function that decides what will be drawn for each index f.  \n",
    "# Note that this is completely generalizable.  Here we are just stepping through a \n",
    "# collection of images from skimage.  But this could also be used to step\n",
    "# through a dataframe containing a train or test split of the data, for example.\n",
    "def my_draw(f, seq):\n",
    "    img = seq[f]\n",
    "    fullpath = seq._files[f]\n",
    "    title = \"{} - {} w x {} h\".format(os.path.basename(fullpath), img.shape[1], img.shape[0])\n",
    "    return (img, None, title)"
   ]
  },
  {
   "cell_type": "code",
   "execution_count": null,
   "metadata": {},
   "outputs": [],
   "source": [
    "def overlay_annots(ax, f, seq):\n",
    "    pass"
   ]
  },
  {
   "cell_type": "code",
   "execution_count": null,
   "metadata": {},
   "outputs": [],
   "source": [
    "def drawcoll(seq):\n",
    "    f = videofig(len(seq), redraw_fn, proc_func=lambda f: (my_draw(f, seq)),\n",
    "         overlay_func = lambda ax,f: (overlay_annots(ax,f,seq)), play_fps=2)"
   ]
  },
  {
   "cell_type": "markdown",
   "metadata": {},
   "source": [
    "# Example of how to have multiple videofigs at once"
   ]
  },
  {
   "cell_type": "code",
   "execution_count": null,
   "metadata": {},
   "outputs": [],
   "source": [
    "# First 10K images\n",
    "drawcoll(imread_collection(\"/Users/lambertw/images/places365-std/val_256/Places365_val_0000*.jpg\", \n",
    "                        conserve_memory=True))\n"
   ]
  },
  {
   "cell_type": "code",
   "execution_count": null,
   "metadata": {
    "scrolled": false
   },
   "outputs": [],
   "source": [
    "# Second 10K images\n",
    "drawcoll(imread_collection(\"/Users/lambertw/images/places365-std/val_256/Places365_val_0001*.jpg\", \n",
    "                        conserve_memory=True))"
   ]
  },
  {
   "cell_type": "markdown",
   "metadata": {},
   "source": [
    "# Now let's add an overlay on top"
   ]
  },
  {
   "cell_type": "code",
   "execution_count": null,
   "metadata": {},
   "outputs": [],
   "source": [
    "import types"
   ]
  },
  {
   "cell_type": "code",
   "execution_count": null,
   "metadata": {},
   "outputs": [],
   "source": [
    "def overlay_annots2(ax, f, seq):\n",
    "    \"\"\"A demonstration of how boxes could be overlaid on top of the image.\"\"\"\n",
    "    # Generate an object that holds a box\n",
    "    dummy = types.SimpleNamespace()\n",
    "    top = (20 * f) % 100\n",
    "    left = (10 * f) % 200\n",
    "    bot = top + 50\n",
    "    right = left + 20\n",
    "    dummy.bbox = [top, left, bot, right]\n",
    "    draw_regions(ax, [dummy])"
   ]
  },
  {
   "cell_type": "code",
   "execution_count": null,
   "metadata": {},
   "outputs": [],
   "source": [
    "seq = imread_collection(\"/Users/lambertw/images/places365-std/val_256/Places365_val_000000*.jpg\", \n",
    "                        conserve_memory=True)"
   ]
  },
  {
   "cell_type": "code",
   "execution_count": null,
   "metadata": {},
   "outputs": [],
   "source": [
    "f = videofig(len(seq), redraw_fn, proc_func=lambda f: (my_draw(f, seq)),\n",
    "         overlay_func = lambda ax,f: (overlay_annots2(ax,f,seq)), play_fps=2)"
   ]
  },
  {
   "cell_type": "code",
   "execution_count": null,
   "metadata": {},
   "outputs": [],
   "source": []
  }
 ],
 "metadata": {
  "kernelspec": {
   "display_name": "Python 3",
   "language": "python",
   "name": "python3"
  },
  "language_info": {
   "codemirror_mode": {
    "name": "ipython",
    "version": 3
   },
   "file_extension": ".py",
   "mimetype": "text/x-python",
   "name": "python",
   "nbconvert_exporter": "python",
   "pygments_lexer": "ipython3",
   "version": "3.7.3"
  },
  "toc": {
   "base_numbering": 1,
   "nav_menu": {},
   "number_sections": true,
   "sideBar": true,
   "skip_h1_title": false,
   "title_cell": "Table of Contents",
   "title_sidebar": "Contents",
   "toc_cell": false,
   "toc_position": {
    "height": "calc(100% - 180px)",
    "left": "10px",
    "top": "150px",
    "width": "165px"
   },
   "toc_section_display": true,
   "toc_window_display": true
  }
 },
 "nbformat": 4,
 "nbformat_minor": 2
}
